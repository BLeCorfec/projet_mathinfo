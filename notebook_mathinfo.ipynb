{
 "cells": [
  {
   "cell_type": "markdown",
   "metadata": {},
   "source": [
    "# Projet math info"
   ]
  },
  {
   "cell_type": "markdown",
   "metadata": {},
   "source": [
    "Le principe de ce projet est de tracer les lignes de niveau d'une fonction f à deux variables.\n",
    "Pour cela on décompose le code en différentes étapes. \n",
    "\n",
    "L'espace sur lequel on travaille est divisé en carrés.\n",
    "\n",
    "Sur chacun de ces carrés une dichotomie permet de déterminer quel point sur les bords est sur la ligne de niveau pour la valeur c qui nous intéresse. On initie ainsi la ligne de niveau.\n",
    "Cela étant dit on réalise ici l'hypothèse de monotonie le long des bords, raisonnable si on découpe assez finement.\n",
    "\n",
    "Pour la continuer on s'intéresse au point suivant du carré, tel qu'il est situé à la fois sur la ligne de niveau et à une distance delta du point précédent.\n",
    "Une première idée est d'utiliser les propriétés du gradient et notamment le fait qu'il soit orthogonal à la ligne de niveau. La tangente à la ligne de niveau est donc dirigée par le vecteur orthogonal au gradient. On approche ainsi le point suivant en avançant d'une distance delta le long de la tangente. Il s'agit alors de corriger l'erreur réalisée, dit autrement d'annuler la fonction F : (x,y) --> (f(x,y)-c, (x-x0)^2 + (y-y0)^2 - delta^2) (avec (x0, y0) le point initial). On réalise une méthode de Newton en initialisant au point grossier que l'on avait obtenu.\n",
    "Pour cela, on calcule la Jacobienne J de F au point (x0, y0) puis la suite de points de la méthode de Newton est donnée par la relation de récurrence : Xk+1 = Xk - J^(-1)(Xk) * F(Xk).\n",
    "\n",
    "Dans le cas où cette jacobienne ne serait pas inversible on considère le point trouvé grâce à la tangente (sans correction) ou grâce à l'avancement interrompu de la fonction Newton."
   ]
  },
  {
   "cell_type": "markdown",
   "metadata": {},
   "source": [
    "## Premier programme (sans choix de la direction du gradient)"
   ]
  },
  {
   "cell_type": "code",
   "execution_count": 109,
   "metadata": {},
   "outputs": [],
   "source": [
    "def find_seed(g, c = 0, eps = 2.0**(-26)):\n",
    "    maxi = 1.0\n",
    "    mini = 0.0\n",
    "    if (c < g(0,0) and c < g(0,1)) or (c > g(0,0) and c > g(0,1)):\n",
    "        return None\n",
    "    else:\n",
    "        while maxi - mini > eps:\n",
    "            milieu = (mini + maxi)/2.0\n",
    "            if (g(0,milieu) - c) * (g(0,maxi) - c) >= 0.0:\n",
    "                maxi = milieu\n",
    "            else :\n",
    "                mini = milieu\n",
    "        return (maxi + mini)/2.0\n",
    "\n",
    "#c'est un algorithme de dichotomie classique    \n",
    "\n",
    "\n",
    "\n",
    "import autograd\n",
    "from autograd import numpy as np\n",
    "import matplotlib.pyplot as plt\n",
    "\n",
    "\n",
    "def grad(f, x, y):\n",
    "    g = autograd.grad\n",
    "    return np.r_[g(f, 0)(x, y), g(f, 1)(x, y)]\n",
    "\n",
    "#retourne le gradient\n",
    "\n",
    "\n",
    "\n",
    "def jacob(f, x, y):\n",
    "    j = autograd.jacobian\n",
    "    return np.c_[j(f, 0)(x, y), j(f, 1)(x, y)]\n",
    "\n",
    "#retourne la jacobienne\n",
    "\n",
    "\n",
    "\n",
    "def newton(F, Xk):\n",
    "    \"\"\"Xk doit être un array\"\"\"\n",
    "    J = jacob(F, Xk[0], Xk[1])\n",
    "    try:\n",
    "        Jinv = np.linalg.inv(J)             #on n'inverse que si elle est inversible\n",
    "    except:\n",
    "        return Xk\n",
    "    Fk = F(Xk[0], Xk[1])\n",
    "    J2 = np.dot(Jinv, Fk)\n",
    "    Xkp1 = Xk - J2\n",
    "    while  np.linalg.norm(Xkp1 - Xk) > 10**(-3):\n",
    "        Xk = Xkp1\n",
    "        J = jacob(F, Xkp1[0], Xkp1[1])\n",
    "        try:\n",
    "            Jinv = np.linalg.inv(J)         #on n'inverse que si elle est inversible\n",
    "        except:\n",
    "            return Xk\n",
    "        Fk = F(Xkp1[0], Xkp1[1])\n",
    "        J2 = np.dot(Jinv, Fk)\n",
    "        Xkp1 = Xkp1 - J2   \n",
    "    return Xkp1\n",
    "\n",
    "#méthode de Newton pour une fonction de R**2 dans R**2\n",
    "\n",
    "def simple_contour (f, c = 0.0, delta = 0.01):\n",
    "    t = find_seed(f, c, eps = 2.0**(-26))\n",
    "    if t == None:\n",
    "        return [],[]\n",
    "    lsx = [0.0]\n",
    "    lsy = [t]\n",
    "    x0 = lsx[-1]\n",
    "    y0 = lsy[-1]\n",
    "    def F(x,y):\n",
    "            return np.r_[f(x, y) - c, (x-x0)**2 + (y-y0)**2 - delta**2]\n",
    "    while lsx[-1] >= 0.0 and lsx[-1] <= 1.0 and lsy[-1] >= 0.0 and lsy[-1] <= 1.0:\n",
    "        x0 = lsx[-1]\n",
    "        y0 = lsy[-1]\n",
    "        X0 = np.r_[x0, y0]\n",
    "        gradient = grad(f, x0, y0)\n",
    "        coeffdir = np.r_[-gradient[1], gradient[0]]              #ainsi coeffdir est orthogonal au gradient\n",
    "        X1 = X0 + delta / np.linalg.norm(coeffdir) * coeffdir\n",
    "        X2 = newton(F, X1)\n",
    "        lsx += [X2[0]]\n",
    "        lsy += [X2[1]]\n",
    "    return lsx, lsy"
   ]
  },
  {
   "cell_type": "markdown",
   "metadata": {},
   "source": [
    "## arc de cercle"
   ]
  },
  {
   "cell_type": "code",
   "execution_count": 110,
   "metadata": {},
   "outputs": [
    {
     "name": "stderr",
     "output_type": "stream",
     "text": [
      "C:\\Users\\riedisheim\\Anaconda3\\lib\\site-packages\\autograd\\numpy\\numpy_wrapper.py:66: UserWarning: r_ is slow for array inputs. np.concatenate() is faster.\n",
      "  \"np.concatenate() is faster.\".format(slow_op_name))\n"
     ]
    },
    {
     "data": {
      "image/png": "[encoded data removed]",
      "text/plain": [
       "<Figure size 432x288 with 1 Axes>"
      ]
     },
     "metadata": {
      "needs_background": "light"
     },
     "output_type": "display_data"
    }
   ],
   "source": [
    "def f(x,y):\n",
    "    return ((x-0.3)**2 + (y-0.7)**2)/2\n",
    "def g(x,y):\n",
    "    return ((x-0.3)**2 + (y-0.7)**2)/2\n",
    "\n",
    "\n",
    "a=simple_contour(f,0.1)\n",
    "B=a[0][::5]\n",
    "C=a[1][::5]\n",
    "\n",
    "#pour une meilleure visiblité tous les points ne sont pas représentés\n",
    "\n",
    "plt.plot(B,C, marker='x', markersize = 8)\n",
    "\n",
    "gnp=np.vectorize(g)\n",
    "\n",
    "X = np.arange(0, 1, 0.01)\n",
    "Y = np.arange(0, 1, 0.01)\n",
    "X, Y = np.meshgrid(X, Y)\n",
    "Z = gnp(X, Y)\n",
    "plt.axis('equal')\n",
    "plt.contour(X, Y, Z, [0.1])\n",
    "\n",
    "plt.axis('equal')\n",
    "plt.show()\n",
    "\n",
    "#les croix correspondent au contour tracé par la fonction simple_contour\n",
    "#le trait plein correspond au contour tracé par la fonction contour de la bibliothèque numpy"
   ]
  },
  {
   "cell_type": "markdown",
   "metadata": {},
   "source": [
    "Ce tracé est très satisfaisant : la fonction contour de matplotlib suit bien les points que simple_contour a trouvés"
   ]
  },
  {
   "cell_type": "markdown",
   "metadata": {},
   "source": [
    "## avec le gradient dans l'autre sens"
   ]
  },
  {
   "cell_type": "markdown",
   "metadata": {},
   "source": [
    "On s'intéresse ici à une fonction dont le gradient est orienté dans le sens opposé au départ à la fonction précédente."
   ]
  },
  {
   "cell_type": "code",
   "execution_count": 111,
   "metadata": {},
   "outputs": [
    {
     "data": {
      "image/png": "[encoded data removed]",
      "text/plain": [
       "<Figure size 432x288 with 1 Axes>"
      ]
     },
     "metadata": {
      "needs_background": "light"
     },
     "output_type": "display_data"
    }
   ],
   "source": [
    "def f(x,y):\n",
    "    return -((x-0.3)**2 + (y-0.7)**2)/2\n",
    "def g(x,y):\n",
    "    return -((x-0.3)**2 + (y-0.7)**2)/2\n",
    "\n",
    "plt.clf()\n",
    "a=simple_contour(f,-0.1)\n",
    "plt.plot(a[0],a[1], marker='x')\n",
    "gnp=np.vectorize(g)\n",
    "X = np.arange(0, 1, 0.01)\n",
    "Y = np.arange(0, 1, 0.01)\n",
    "X, Y = np.meshgrid(X, Y)\n",
    "Z = gnp(X, Y)\n",
    "plt.axis('equal')\n",
    "plt.contour(X, Y, Z, [-0.1])\n",
    "plt.show()\n",
    "\n",
    "#les croix correspondent au contour tracé par la fonction simple_contour\n",
    "#le trait plein correspond au contour tracé par la fonction contour de la bibliothèque numpy"
   ]
  },
  {
   "cell_type": "markdown",
   "metadata": {},
   "source": [
    "On remarque un gros probelème. Il faut donc implémenter le code de sorte à choisir la bonne direction à emprunter selon la tangente à la ligne de niveau (orthogonale au gradient)."
   ]
  },
  {
   "cell_type": "markdown",
   "metadata": {},
   "source": [
    "## Deuxième programme (avec choix de la direction du gradient)"
   ]
  },
  {
   "cell_type": "markdown",
   "metadata": {},
   "source": [
    "On réalise un test sur le gradient au point initial pour faire \"partir\" la figure vers le \"bon côté\""
   ]
  },
  {
   "cell_type": "code",
   "execution_count": 113,
   "metadata": {},
   "outputs": [],
   "source": [
    "def sens_grad(grad_y):\n",
    "    if grad_y > 0:          #ce n'est que pour un gradient dirigé vers le haut que nous avons un problème \n",
    "        return -1\n",
    "    else:\n",
    "        return 1\n",
    "\n",
    "def simple_contour2 (f, c = 0.0, delta = 0.01):\n",
    "    t = find_seed(f, c, eps = 2.0**(-26))\n",
    "    if t == None:\n",
    "        return [],[]\n",
    "    lsx = [0.0]\n",
    "    lsy = [t]\n",
    "    x0 = lsx[-1]\n",
    "    y0 = lsy[-1]\n",
    "    gradient = grad(f, x0, y0)\n",
    "    a = sens_grad(gradient[1])\n",
    "    def F(x,y):\n",
    "            return np.r_[f(x, y) - c, (x-x0)**2 + (y-y0)**2 - delta**2]\n",
    "    while lsx[-1] >= 0.0 and lsx[-1] <= 1.0 and lsy[-1] >= 0.0 and lsy[-1] <= 1.0:\n",
    "        x0 = lsx[-1]\n",
    "        y0 = lsy[-1]\n",
    "        X0 = np.r_[x0, y0]\n",
    "        gradient = grad(f, x0, y0)\n",
    "        coeffdir = np.r_[-a*gradient[1], a*gradient[0]]            #on oriente le vecteur directeur dans le bon sens\n",
    "        X1 = X0 + delta / np.linalg.norm(coeffdir) * coeffdir\n",
    "        X2 = newton(F, X1)\n",
    "        lsx += [X2[0]]\n",
    "        lsy += [X2[1]]\n",
    "    return lsx, lsy"
   ]
  },
  {
   "cell_type": "markdown",
   "metadata": {},
   "source": [
    "### arc de cercle"
   ]
  },
  {
   "cell_type": "markdown",
   "metadata": {},
   "source": [
    "Dans ce cas là la fonction sens_grad doit renvoyer 1 ce qui ne change rien au premier tracé"
   ]
  },
  {
   "cell_type": "code",
   "execution_count": 114,
   "metadata": {},
   "outputs": [
    {
     "data": {
      "image/png": "[encoded data removed]",
      "text/plain": [
       "<Figure size 432x288 with 1 Axes>"
      ]
     },
     "metadata": {
      "needs_background": "light"
     },
     "output_type": "display_data"
    }
   ],
   "source": [
    "def f(x,y):\n",
    "    return ((x-0.3)**2 + (y-0.7)**2)/2\n",
    "def g(x,y):\n",
    "    return ((x-0.3)**2 + (y-0.7)**2)/2\n",
    "\n",
    "\n",
    "a=simple_contour2(f,0.1)\n",
    "B=a[0][::5]\n",
    "C=a[1][::5]\n",
    "\n",
    "#pour une meilleure visiblité tous les points ne sont pas représentés\n",
    "\n",
    "plt.plot(B,C, marker='x', markersize = 8)\n",
    "\n",
    "\n",
    "gnp=np.vectorize(g)\n",
    "\n",
    "X = np.arange(0, 1, 0.01)\n",
    "Y = np.arange(0, 1, 0.01)\n",
    "X, Y = np.meshgrid(X, Y)\n",
    "Z = gnp(X, Y)\n",
    "plt.axis('equal')\n",
    "plt.contour(X, Y, Z, [0.1])\n",
    "\n",
    "plt.axis('equal')\n",
    "plt.show()\n",
    "\n",
    "#les croix correspondent au contour tracé par la fonction simple_contour2\n",
    "#le trait plein correspond au contour tracé par la fonction contour de la bibliothèque numpy"
   ]
  },
  {
   "cell_type": "markdown",
   "metadata": {},
   "source": [
    "### Avec le gradient dans l'autre sens"
   ]
  },
  {
   "cell_type": "markdown",
   "metadata": {},
   "source": [
    "Ici la fonction sens_grad doit renvoyer -1 et corriger l'erreur du deuxième tracé."
   ]
  },
  {
   "cell_type": "code",
   "execution_count": 115,
   "metadata": {},
   "outputs": [
    {
     "data": {
      "image/png": "[encoded data removed]",
      "text/plain": [
       "<Figure size 432x288 with 1 Axes>"
      ]
     },
     "metadata": {
      "needs_background": "light"
     },
     "output_type": "display_data"
    }
   ],
   "source": [
    "def f(x,y):\n",
    "    return -((x-0.3)**2 + (y-0.7)**2)/2\n",
    "def g(x,y):\n",
    "    return -((x-0.3)**2 + (y-0.7)**2)/2\n",
    "\n",
    "plt.clf()\n",
    "\n",
    "a=simple_contour2(f,-0.1)\n",
    "B=a[0][::5]\n",
    "C=a[1][::5]\n",
    "\n",
    "#pour une meilleure visiblité tous les points ne sont pas représentés\n",
    "\n",
    "plt.plot(B,C, marker='x', markersize = 8)\n",
    "\n",
    "gnp=np.vectorize(g)\n",
    "X = np.arange(0, 1, 0.01)\n",
    "Y = np.arange(0, 1, 0.01)\n",
    "X, Y = np.meshgrid(X, Y)\n",
    "Z = gnp(X, Y)\n",
    "plt.axis('equal')\n",
    "plt.contour(X, Y, Z, [-0.1])\n",
    "plt.show()\n",
    "\n",
    "#les croix correspondent au contour tracé par la fonction simple_contour2\n",
    "#le trait plein correspond au contour tracé par la fonction contour de la bibliothèque numpy"
   ]
  },
  {
   "cell_type": "markdown",
   "metadata": {},
   "source": [
    "C'est bien ce qu'on observe."
   ]
  },
  {
   "cell_type": "markdown",
   "metadata": {},
   "source": [
    "# Contour complexe "
   ]
  },
  {
   "cell_type": "code",
   "execution_count": 21,
   "metadata": {},
   "outputs": [],
   "source": [
    "#La fonction suivante a été écrite par M. Sébastien Boisgérault https://github.com/boisgera"
   ]
  },
  {
   "cell_type": "code",
   "execution_count": 116,
   "metadata": {},
   "outputs": [],
   "source": [
    "\n",
    "# Rotators\n",
    "# ------------------------------------------------------------------------------\n",
    "LEFT, UP, RIGHT, DOWN = 0, 1, 2, 3  # clockwise\n",
    "\n",
    "\n",
    "def rotate_direction(direction, n=1):\n",
    "    return (direction + n) % 4\n",
    "\n",
    "\n",
    "def rotate(x, y, n=1):\n",
    "    if n == 0:\n",
    "        return x, y\n",
    "    elif n >= 1:\n",
    "        return rotate(1 - y, x, n - 1)\n",
    "    else:\n",
    "        assert n < 0\n",
    "        return rotate(x, y, n=-3 * n)\n",
    "\n",
    "\n",
    "def rotate_function(f, n=1):\n",
    "    def rotated_function(x, y):\n",
    "        xr, yr = rotate(x, y, -n)\n",
    "        return f(xr, yr)\n",
    "\n",
    "    return rotated_function\n",
    "\n",
    "\n",
    "# Complex Contouring\n",
    "# ------------------------------------------------------------------------------\n",
    "\n",
    "# Customize the simple_contour function used in contour :\n",
    "# simple_contour = smart_simple_contour\n",
    "\n",
    "\n",
    "def contour1(f, c, xs=[0.0, 1.0], ys=[0.0, 1.0], delta=0.01):\n",
    "    curves = []\n",
    "    nx, ny = len(xs), len(ys)\n",
    "    for i in range(nx - 1):\n",
    "        for j in range(ny - 1):\n",
    "            xmin, xmax = xs[i], xs[i + 1]\n",
    "            ymin, ymax = ys[j], ys[j + 1]\n",
    "\n",
    "            def f_cell(x, y):\n",
    "                return f(xmin + (xmax - xmin) * x, ymin + (ymax - ymin) * y)\n",
    "\n",
    "            done = set()\n",
    "            for n in [0, 1, 2, 3]:\n",
    "                if n not in done:\n",
    "                    rotated_f_cell = rotate_function(f_cell, n)\n",
    "                    x_curve_r, y_curve_r = simple_contour2(rotated_f_cell, c, delta)\n",
    "                    exit = None\n",
    "                    if len(x_curve_r) >= 1:\n",
    "                        xf, yf = x_curve_r[-1], y_curve_r[-1]\n",
    "                        if xf == 0.0:\n",
    "                            exit = LEFT\n",
    "                        elif xf == 1.0:\n",
    "                            exit = RIGHT\n",
    "                        elif yf == 0.0:\n",
    "                            exit = DOWN\n",
    "                        elif yf == 1.0:\n",
    "                            exit = UP\n",
    "                    if exit is not None:  # a fully successful contour fragment\n",
    "                        exit = rotate_direction(exit, n)\n",
    "                        done.add(exit)\n",
    "\n",
    "                    x_curve, y_curve = [], []\n",
    "                    for x_r, y_r in zip(x_curve_r, y_curve_r):\n",
    "                        x, y = rotate(x_r, y_r, n=-n)\n",
    "                        x_curve.append(x)\n",
    "                        y_curve.append(y)\n",
    "                    x_curve = np.array(x_curve)\n",
    "                    y_curve = np.array(y_curve)\n",
    "                    curves.append((xmin + (xmax - xmin) * x_curve, ymin + (ymax - ymin) * y_curve))\n",
    "    return curves"
   ]
  },
  {
   "cell_type": "code",
   "execution_count": null,
   "metadata": {},
   "outputs": [],
   "source": [
    "\"\"\"Les valeurs renvoyées ne sont pas conformes à la documentation fournie dans le document « Calcul Différentiel II »\n",
    "\n",
    "Si\n",
    "\n",
    "level_curves = contour1(f, c, xs, ys) alors level_curves est une liste de paires (x, y) qui représentent un fragment de ligne de niveau (x et y sont des tableaux mono-dimensionnels). \n",
    "Autrement, dit, l’ensemble des fragments peut être tracé avec :\n",
    "\n",
    "for x, y in level_curves:\n",
    "    matplotlib.pyplot.plot(x, y)\"\"\""
   ]
  },
  {
   "cell_type": "code",
   "execution_count": 117,
   "metadata": {},
   "outputs": [
    {
     "data": {
      "image/png": "[encoded data removed]",
      "text/plain": [
       "<Figure size 432x288 with 1 Axes>"
      ]
     },
     "metadata": {
      "needs_background": "light"
     },
     "output_type": "display_data"
    }
   ],
   "source": [
    "def h1(x, y):\n",
    "    return np.exp(-x**2 - y**2)\n",
    "\n",
    "def h2(x, y):\n",
    "    return np.exp(-(x-1)**2-(y-1)**2)\n",
    "\n",
    "def h(x, y):\n",
    "    return 2*(h1(x, y) - h2(x, y))\n",
    "\n",
    "for c in {-1.5, -1.0, -0.5, 0.5, 1.0, 1.5}:\n",
    "    level_curves = contour1(h, c, [-2.0, -1.0, 0.0, 1.0, 2.0, 3.0], [-1.0, 0.0, 1.0, 2.0])\n",
    "    for x, y in level_curves:\n",
    "        plt.plot(x, y)\n",
    "level_curves = contour1(h, 0.0, [-2.0, -1.01, 0.0, 1.01, 2.0, 3.0], [-1.01, 0.0, 1.01, 2.0])\n",
    "for x, y in level_curves:\n",
    "        plt.plot(x, y)\n",
    "\n",
    "plt.show()"
   ]
  },
  {
   "cell_type": "markdown",
   "metadata": {},
   "source": [
    "On obtient un résultat très satisfaisant (malgré un temps d'exécution assez long)"
   ]
  }
 ],
 "metadata": {
  "kernelspec": {
   "display_name": "Python 3",
   "language": "python",
   "name": "python3"
  },
  "language_info": {
   "codemirror_mode": {
    "name": "ipython",
    "version": 3
   },
   "file_extension": ".py",
   "mimetype": "text/x-python",
   "name": "python",
   "nbconvert_exporter": "python",
   "pygments_lexer": "ipython3",
   "version": "3.7.3"
  }
 },
 "nbformat": 4,
 "nbformat_minor": 2
}
