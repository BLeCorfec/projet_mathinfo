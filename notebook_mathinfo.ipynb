{
 "cells": [
  {
   "cell_type": "markdown",
   "metadata": {},
   "source": [
    "# Projet math info"
   ]
  },
  {
   "cell_type": "code",
   "execution_count": 1,
   "metadata": {},
   "outputs": [],
   "source": [
    "import autograd\n",
    "from autograd import numpy as np\n",
    "import matplotlib.pyplot as plt\n",
    "\n",
    "def find_seed(g, c = 0, eps = 2.0**(-26)):\n",
    "    maxi = 1.0\n",
    "    mini = 0.0\n",
    "    if (c < g(0,0) and c < g(0,1)) or (c > g(0,0) and c > g(0,1)):\n",
    "        return None\n",
    "    else:\n",
    "        while maxi - mini > eps:\n",
    "            milieu = (mini + maxi)/2.0\n",
    "            if (g(0,milieu) - c) * (g(0,maxi) - c) >= 0.0:\n",
    "                maxi = milieu\n",
    "            else :\n",
    "                mini = milieu\n",
    "        return (maxi + mini)/2.0\n",
    "\n",
    "\n",
    "def grad(f, x, y):\n",
    "    g = autograd.grad\n",
    "    return np.r_[g(f, 0)(x, y), g(f, 1)(x, y)]\n",
    "\n",
    "def jacob(f, x, y):\n",
    "    j = autograd.jacobian\n",
    "    return np.c_[j(f, 0)(x, y), j(f, 1)(x, y)]\n",
    "def newton(F,X0):\n",
    "    \"\"\"X0 doit être un array\"\"\"\n",
    "    Xk=X0\n",
    "    J = jacob(F, Xk[0], Xk[1])\n",
    "    Jinv = np.linalg.inv(J)\n",
    "    Fk = F(Xk[0], Xk[1])\n",
    "    J2 = np.dot(Jinv, Fk)\n",
    "    Xkp1 = Xk - J2\n",
    "    while  np.linalg.norm(Xkp1 - Xk) > 10**(-4):\n",
    "        Xk = Xkp1\n",
    "        J = jacob(F, Xkp1[0], Xkp1[1])\n",
    "        Jinv = np.linalg.inv(J)\n",
    "        Fk = F(Xkp1[0], Xkp1[1])\n",
    "        J2 = np.dot(Jinv, Fk)\n",
    "        Xkp1 = Xkp1 - J2\n",
    "        \n",
    "    return Xkp1\n",
    "\n",
    "\n",
    "\n",
    "\n",
    "def simple_contour (f, c = 0.0, delta = 0.01):\n",
    "    t = find_seed(f, c, eps = 2.0**(-26))\n",
    "    if t == None:\n",
    "        return [],[]\n",
    "    lsx = [0.0]\n",
    "    lsy = [t]\n",
    "    x0 = lsx[-1]\n",
    "    y0 = lsy[-1]\n",
    "    def F(x,y):\n",
    "            return np.r_[f(x, y) - c, (x-x0)**2 + (y-y0)**2 - delta**2]\n",
    "    while lsx[-1] >= 0.0 and lsx[-1] <= 1.0 and lsy[-1] >= 0.0 and lsy[-1] <= 1.0:\n",
    "        x0 = lsx[-1]\n",
    "        y0 = lsy[-1]\n",
    "        X0 = np.r_[x0, y0]\n",
    "        gradient = grad(f, x0, y0)\n",
    "        coeffdir = np.r_[-gradient[1], gradient[0]]\n",
    "        Xk = X0 + delta / np.linalg.norm(coeffdir) * coeffdir\n",
    "        Xkp1 = newton(F,Xk)\n",
    "        lsx += [Xkp1[0]]\n",
    "        lsy += [Xkp1[1]]\n",
    "    return lsx, lsy\n",
    "\n"
   ]
  },
  {
   "cell_type": "markdown",
   "metadata": {},
   "source": [
    "## premier test (arc de cercle)"
   ]
  },
  {
   "cell_type": "code",
   "execution_count": 2,
   "metadata": {},
   "outputs": [
    {
     "name": "stderr",
     "output_type": "stream",
     "text": [
      "c:\\users\\bruno\\miniconda3\\lib\\site-packages\\autograd\\numpy\\numpy_wrapper.py:66: UserWarning: r_ is slow for array inputs. np.concatenate() is faster.\n",
      "  \"np.concatenate() is faster.\".format(slow_op_name))\n"
     ]
    },
    {
     "data": {
      "image/png": "[encoded data removed]",
      "text/plain": [
       "<Figure size 432x288 with 1 Axes>"
      ]
     },
     "metadata": {
      "needs_background": "light"
     },
     "output_type": "display_data"
    }
   ],
   "source": [
    "def f(x,y):\n",
    "    return ((x-0.3)**2 + (y-0.7)**2)/2\n",
    "def g(x,y):\n",
    "    return ((x-0.3)**2 + (y-0.7)**2)/2\n",
    "\n",
    "\n",
    "a=simple_contour(f,0.1)\n",
    "plt.plot(a[0],a[1], marker='x')\n",
    "\n",
    "gnp=np.vectorize(g)\n",
    "\n",
    "X = np.arange(0, 1, 0.01)\n",
    "Y = np.arange(0, 1, 0.01)\n",
    "X, Y = np.meshgrid(X, Y)\n",
    "Z = gnp(X, Y)\n",
    "plt.axis('equal')\n",
    "plt.contour(X, Y, Z, [0.1])\n",
    "\n",
    "plt.axis('equal')\n",
    "plt.show()"
   ]
  },
  {
   "cell_type": "code",
   "execution_count": null,
   "metadata": {},
   "outputs": [],
   "source": []
  }
 ],
 "metadata": {
  "kernelspec": {
   "display_name": "Python 3",
   "language": "python",
   "name": "python3"
  },
  "language_info": {
   "codemirror_mode": {
    "name": "ipython",
    "version": 3
   },
   "file_extension": ".py",
   "mimetype": "text/x-python",
   "name": "python",
   "nbconvert_exporter": "python",
   "pygments_lexer": "ipython3",
   "version": "3.7.3"
  }
 },
 "nbformat": 4,
 "nbformat_minor": 2
}
